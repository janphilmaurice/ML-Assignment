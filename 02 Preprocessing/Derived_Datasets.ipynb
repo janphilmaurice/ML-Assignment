{
 "cells": [
  {
   "cell_type": "code",
   "execution_count": 1,
   "metadata": {},
   "outputs": [],
   "source": [
    "import os\n",
    "import pandas as pd\n",
    "import matplotlib.pyplot as plt"
   ]
  },
  {
   "cell_type": "markdown",
   "metadata": {},
   "source": [
    "### Balanced Dataset"
   ]
  },
  {
   "cell_type": "code",
   "execution_count": 3,
   "metadata": {},
   "outputs": [
    {
     "name": "stdout",
     "output_type": "stream",
     "text": [
      "Good rows: 0, Bad rows: 0\n"
     ]
    },
    {
     "ename": "ValueError",
     "evalue": "a must be greater than 0 unless no samples are taken",
     "output_type": "error",
     "traceback": [
      "\u001b[0;31m---------------------------------------------------------------------------\u001b[0m",
      "\u001b[0;31mValueError\u001b[0m                                Traceback (most recent call last)",
      "Cell \u001b[0;32mIn[3], line 29\u001b[0m\n\u001b[1;32m     27\u001b[0m input_file \u001b[38;5;241m=\u001b[39m \u001b[38;5;124m\"\u001b[39m\u001b[38;5;124m/Users/mdelaluz/Documents/MSC KIDS UCL/Foundations of Machine Learning/Assessment/ML-Assignment/01 Data/Master_Data_Preprocessed.csv\u001b[39m\u001b[38;5;124m\"\u001b[39m\n\u001b[1;32m     28\u001b[0m output_file \u001b[38;5;241m=\u001b[39m \u001b[38;5;124m\"\u001b[39m\u001b[38;5;124m/Users/mdelaluz/Documents/MSC KIDS UCL/Foundations of Machine Learning/Assessment/ML-Assignment/01 Data/Derived Datasets/balanced_dataset.csv\u001b[39m\u001b[38;5;124m\"\u001b[39m\n\u001b[0;32m---> 29\u001b[0m create_balanced_dataset(input_file, total_count, output_file)\n\u001b[1;32m     30\u001b[0m \u001b[38;5;28mprint\u001b[39m(\u001b[38;5;124mf\u001b[39m\u001b[38;5;124m\"\u001b[39m\u001b[38;5;124mRuta del archivo de salida: \u001b[39m\u001b[38;5;132;01m{\u001b[39;00moutput_file\u001b[38;5;132;01m}\u001b[39;00m\u001b[38;5;124m\"\u001b[39m)\n",
      "Cell \u001b[0;32mIn[3], line 15\u001b[0m, in \u001b[0;36mcreate_balanced_dataset\u001b[0;34m(input_file, total_count, output_file)\u001b[0m\n\u001b[1;32m     12\u001b[0m \u001b[38;5;28mprint\u001b[39m(\u001b[38;5;124mf\u001b[39m\u001b[38;5;124m\"\u001b[39m\u001b[38;5;124mGood rows: \u001b[39m\u001b[38;5;132;01m{\u001b[39;00m\u001b[38;5;28mlen\u001b[39m(good_rows)\u001b[38;5;132;01m}\u001b[39;00m\u001b[38;5;124m, Bad rows: \u001b[39m\u001b[38;5;132;01m{\u001b[39;00m\u001b[38;5;28mlen\u001b[39m(bad_rows)\u001b[38;5;132;01m}\u001b[39;00m\u001b[38;5;124m\"\u001b[39m)\n\u001b[1;32m     14\u001b[0m \u001b[38;5;66;03m# Sample from both groups\u001b[39;00m\n\u001b[0;32m---> 15\u001b[0m good_sample \u001b[38;5;241m=\u001b[39m good_rows\u001b[38;5;241m.\u001b[39msample(n\u001b[38;5;241m=\u001b[39mhalf_count, random_state\u001b[38;5;241m=\u001b[39m\u001b[38;5;241m42\u001b[39m, replace\u001b[38;5;241m=\u001b[39m\u001b[38;5;28mlen\u001b[39m(good_rows) \u001b[38;5;241m<\u001b[39m half_count)\n\u001b[1;32m     16\u001b[0m bad_sample \u001b[38;5;241m=\u001b[39m bad_rows\u001b[38;5;241m.\u001b[39msample(n\u001b[38;5;241m=\u001b[39mhalf_count, random_state\u001b[38;5;241m=\u001b[39m\u001b[38;5;241m42\u001b[39m, replace\u001b[38;5;241m=\u001b[39m\u001b[38;5;28mlen\u001b[39m(bad_rows) \u001b[38;5;241m<\u001b[39m half_count)\n\u001b[1;32m     18\u001b[0m \u001b[38;5;66;03m# Combine and shuffle\u001b[39;00m\n",
      "File \u001b[0;32m/opt/anaconda3/lib/python3.12/site-packages/pandas/core/generic.py:6118\u001b[0m, in \u001b[0;36mNDFrame.sample\u001b[0;34m(self, n, frac, replace, weights, random_state, axis, ignore_index)\u001b[0m\n\u001b[1;32m   6115\u001b[0m \u001b[38;5;28;01mif\u001b[39;00m weights \u001b[38;5;129;01mis\u001b[39;00m \u001b[38;5;129;01mnot\u001b[39;00m \u001b[38;5;28;01mNone\u001b[39;00m:\n\u001b[1;32m   6116\u001b[0m     weights \u001b[38;5;241m=\u001b[39m sample\u001b[38;5;241m.\u001b[39mpreprocess_weights(\u001b[38;5;28mself\u001b[39m, weights, axis)\n\u001b[0;32m-> 6118\u001b[0m sampled_indices \u001b[38;5;241m=\u001b[39m sample\u001b[38;5;241m.\u001b[39msample(obj_len, size, replace, weights, rs)\n\u001b[1;32m   6119\u001b[0m result \u001b[38;5;241m=\u001b[39m \u001b[38;5;28mself\u001b[39m\u001b[38;5;241m.\u001b[39mtake(sampled_indices, axis\u001b[38;5;241m=\u001b[39maxis)\n\u001b[1;32m   6121\u001b[0m \u001b[38;5;28;01mif\u001b[39;00m ignore_index:\n",
      "File \u001b[0;32m/opt/anaconda3/lib/python3.12/site-packages/pandas/core/sample.py:152\u001b[0m, in \u001b[0;36msample\u001b[0;34m(obj_len, size, replace, weights, random_state)\u001b[0m\n\u001b[1;32m    149\u001b[0m     \u001b[38;5;28;01melse\u001b[39;00m:\n\u001b[1;32m    150\u001b[0m         \u001b[38;5;28;01mraise\u001b[39;00m \u001b[38;5;167;01mValueError\u001b[39;00m(\u001b[38;5;124m\"\u001b[39m\u001b[38;5;124mInvalid weights: weights sum to zero\u001b[39m\u001b[38;5;124m\"\u001b[39m)\n\u001b[0;32m--> 152\u001b[0m \u001b[38;5;28;01mreturn\u001b[39;00m random_state\u001b[38;5;241m.\u001b[39mchoice(obj_len, size\u001b[38;5;241m=\u001b[39msize, replace\u001b[38;5;241m=\u001b[39mreplace, p\u001b[38;5;241m=\u001b[39mweights)\u001b[38;5;241m.\u001b[39mastype(\n\u001b[1;32m    153\u001b[0m     np\u001b[38;5;241m.\u001b[39mintp, copy\u001b[38;5;241m=\u001b[39m\u001b[38;5;28;01mFalse\u001b[39;00m\n\u001b[1;32m    154\u001b[0m )\n",
      "File \u001b[0;32mnumpy/random/mtrand.pyx:945\u001b[0m, in \u001b[0;36mnumpy.random.mtrand.RandomState.choice\u001b[0;34m()\u001b[0m\n",
      "\u001b[0;31mValueError\u001b[0m: a must be greater than 0 unless no samples are taken"
     ]
    }
   ],
   "source": [
    "def create_balanced_dataset(input_file, total_count, output_file):\n",
    "    # Load the data\n",
    "    df = pd.read_csv(input_file)\n",
    "    \n",
    "    # Separate 'Good' and 'Bad' rows\n",
    "    good_rows = df[df['Binary_credit_mix'] == '1']\n",
    "    bad_rows = df[df['Binary_credit_mix'] == '0']\n",
    "    \n",
    "    # Determine the number of samples from each group\n",
    "    half_count = total_count // 2\n",
    "    # Print counts for debugging\n",
    "    print(f\"Good rows: {len(good_rows)}, Bad rows: {len(bad_rows)}\")\n",
    "\n",
    "    # Sample from both groups\n",
    "    good_sample = good_rows.sample(n=half_count, random_state=42, replace=len(good_rows) < half_count)\n",
    "    bad_sample = bad_rows.sample(n=half_count, random_state=42, replace=len(bad_rows) < half_count)\n",
    "    \n",
    "    # Combine and shuffle\n",
    "    balanced_df = pd.concat([good_sample, bad_sample]).sample(frac=1, random_state=42).reset_index(drop=True)\n",
    "    \n",
    "    # Save to CSV\n",
    "    balanced_df.to_csv(output_file, index=False)\n",
    "\n",
    "# Example usage\n",
    "total_count = 5000  # Total rows in the balanced dataset\n",
    "#base_dir = os.path.abspath(os.path.join(os.getcwd(), \"..\"))  #Works in Jupyter Notebook\n",
    "input_file = \"/Users/mdelaluz/Documents/MSC KIDS UCL/Foundations of Machine Learning/Assessment/ML-Assignment/01 Data/Master_Data_Preprocessed.csv\"\n",
    "output_file = \"/Users/mdelaluz/Documents/MSC KIDS UCL/Foundations of Machine Learning/Assessment/ML-Assignment/01 Data/Derived Datasets/balanced_dataset.csv\"\n",
    "create_balanced_dataset(input_file, total_count, output_file)\n",
    "print(f\"Ruta del archivo de salida: {output_file}\")"
   ]
  },
  {
   "cell_type": "markdown",
   "metadata": {},
   "source": [
    "### Unbalanced Dataset"
   ]
  },
  {
   "cell_type": "code",
   "execution_count": null,
   "metadata": {},
   "outputs": [],
   "source": [
    "def create_unbalanced_dataset(input_file, total_count, output_file):\n",
    "    # Load the data\n",
    "    df = pd.read_csv(input_file)\n",
    "    \n",
    "    # Separate 'Good' and 'Bad' rows\n",
    "    good_rows = df[df['Binary_credit_mix'] == '1']\n",
    "    bad_rows = df[df['Binary_credit_mix'] == '0']\n",
    "    \n",
    "    # Determine the number of samples from each group\n",
    "    good_credit = int(total_count * 0.15)\n",
    "    bad_credit = total_count - good_credit\n",
    "\n",
    "    # Print counts for debugging\n",
    "    print(f\"Available Good rows: {len(good_rows)}, Requested: {good_credit}\")\n",
    "    print(f\"Available Bad rows: {len(bad_rows)}, Requested: {bad_credit}\")\n",
    "\n",
    "\n",
    "    # Sample from both groups\n",
    "    good_sample = good_rows.sample(n=good_credit, random_state=42, replace=len(good_rows) < good_credit)\n",
    "    bad_sample = bad_rows.sample(n=bad_credit, random_state=42, replace=len(bad_rows) < bad_credit)\n",
    "\n",
    "    # Combine and shuffle\n",
    "    unbalanced_df = pd.concat([good_sample, bad_sample]).sample(frac=1, random_state=42).reset_index(drop=True)\n",
    "    # Save to CSV\n",
    "    unbalanced_df.to_csv(output_file, index=False)\n",
    "    print(f\"Unbalanced dataset saved to {output_file}\")\n",
    "\n",
    "# Example usage\n",
    "total_count = 10000  # Total rows in the dataset\n",
    "current_dir = os.path.dirname(os.path.abspath(__file__))\n",
    "input_file = os.path.join(current_dir, \"../01 Data/Master_Data_Preprocessed.csv\")\n",
    "unbalanced_file = \"/Users/mdelaluz/Documents/MSC KIDS UCL/Foundations of Machine Learning/Assessment/Database/unbalanced_dataset_3.csv\"\n",
    "\n",
    "create_unbalanced_dataset(input_file, total_count, unbalanced_file)"
   ]
  }
 ],
 "metadata": {
  "kernelspec": {
   "display_name": "base",
   "language": "python",
   "name": "python3"
  },
  "language_info": {
   "codemirror_mode": {
    "name": "ipython",
    "version": 3
   },
   "file_extension": ".py",
   "mimetype": "text/x-python",
   "name": "python",
   "nbconvert_exporter": "python",
   "pygments_lexer": "ipython3",
   "version": "3.12.4"
  }
 },
 "nbformat": 4,
 "nbformat_minor": 2
}
