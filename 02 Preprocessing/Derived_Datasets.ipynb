{
 "cells": [
  {
   "cell_type": "code",
   "execution_count": 13,
   "metadata": {},
   "outputs": [],
   "source": [
    "import os\n",
    "import pandas as pd\n",
    "import matplotlib.pyplot as plt"
   ]
  },
  {
   "cell_type": "markdown",
   "metadata": {},
   "source": [
    "### Balanced Dataset"
   ]
  },
  {
   "cell_type": "code",
   "execution_count": 18,
   "metadata": {},
   "outputs": [
    {
     "name": "stdout",
     "output_type": "stream",
     "text": [
      "Good rows: 10212, Bad rows: 21534\n"
     ]
    }
   ],
   "source": [
    "total_count = 5000  # Total rows in the balanced dataset\n",
    "\n",
    "base_dir = os.path.dirname(os.getcwd())  #Works in Jupyter Notebook, one level up\n",
    "input_file = os.path.join(base_dir, \"01 Data\", \"Master_Data_Preprocessed.csv\")\n",
    "output_file = os.path.join(base_dir, \"01 Data\", \"Derived Datasets\", \"balanced_dataset.csv\")\n",
    "\n",
    "def create_balanced_dataset(input_file, total_count, output_file):\n",
    "    # Load the data\n",
    "    df = pd.read_csv(input_file)\n",
    "    \n",
    "    # Separate 'Good' and 'Bad' rows\n",
    "    good_rows = df[df['Binary_credit_mix'] == 1]\n",
    "    bad_rows = df[df['Binary_credit_mix'] == 0]\n",
    "    \n",
    "    # Determine the number of samples from each group\n",
    "    half_count = total_count // 2\n",
    "    # Print counts for debugging\n",
    "    print(f\"Good rows: {len(good_rows)}, Bad rows: {len(bad_rows)}\")\n",
    "\n",
    "    # Sample from both groups\n",
    "    good_sample = good_rows.sample(n=half_count, random_state=42, replace=len(good_rows) < half_count)\n",
    "    bad_sample = bad_rows.sample(n=half_count, random_state=42, replace=len(bad_rows) < half_count)\n",
    "    \n",
    "    # Combine and shuffle\n",
    "    balanced_df = pd.concat([good_sample, bad_sample]).sample(frac=1, random_state=42).reset_index(drop=True)\n",
    "    \n",
    "    # Save to CSV\n",
    "    balanced_df.to_csv(output_file, index=False)\n",
    "\n",
    "create_balanced_dataset(input_file, total_count, output_file)\n"
   ]
  },
  {
   "cell_type": "markdown",
   "metadata": {},
   "source": [
    "### Unbalanced Datasets"
   ]
  },
  {
   "cell_type": "code",
   "execution_count": 19,
   "metadata": {},
   "outputs": [
    {
     "name": "stdout",
     "output_type": "stream",
     "text": [
      "Available Good rows: 10212, Requested: 3500\n",
      "Available Bad rows: 21534, Requested: 6500\n",
      "Unbalanced dataset saved to /Users/mdelaluz/Documents/MSC KIDS UCL/Foundations of Machine Learning/Assessment/ML-Assignment/01 Data/Derived Datasets/derived_imbalanced_2.csv\n"
     ]
    }
   ],
   "source": [
    "# Example usage\n",
    "total_count = 10000  # Total rows in the dataset\n",
    "base_dir = os.path.dirname(os.getcwd())\n",
    "input_file = os.path.join(base_dir, \"01 Data\", \"Master_Data_Preprocessed.csv\")\n",
    "unbalanced_file = os.path.join(base_dir, \"01 Data\", \"Derived Datasets\", \"derived_imbalanced_2.csv\")\n",
    "\n",
    "\n",
    "def create_unbalanced_dataset(input_file, total_count, output_file):\n",
    "    # Load the data\n",
    "    df = pd.read_csv(input_file)\n",
    "    \n",
    "    # Separate 'Good' and 'Bad' rows\n",
    "    good_rows = df[df['Binary_credit_mix'] == 1]\n",
    "    bad_rows = df[df['Binary_credit_mix'] == 0]\n",
    "    \n",
    "    # Determine the number of samples from each group\n",
    "    good_credit = int(total_count * 0.35)\n",
    "    bad_credit = total_count - good_credit\n",
    "\n",
    "    # Print counts for debugging\n",
    "    print(f\"Available Good rows: {len(good_rows)}, Requested: {good_credit}\")\n",
    "    print(f\"Available Bad rows: {len(bad_rows)}, Requested: {bad_credit}\")\n",
    "\n",
    "\n",
    "    # Sample from both groups\n",
    "    good_sample = good_rows.sample(n=good_credit, random_state=42, replace=len(good_rows) < good_credit)\n",
    "    bad_sample = bad_rows.sample(n=bad_credit, random_state=42, replace=len(bad_rows) < bad_credit)\n",
    "\n",
    "    # Combine and shuffle\n",
    "    unbalanced_df = pd.concat([good_sample, bad_sample]).sample(frac=1, random_state=42).reset_index(drop=True)\n",
    "    # Save to CSV\n",
    "    unbalanced_df.to_csv(output_file, index=False)\n",
    "    print(f\"Unbalanced dataset saved to {output_file}\")\n",
    "\n",
    "create_unbalanced_dataset(input_file, total_count, unbalanced_file)"
   ]
  }
 ],
 "metadata": {
  "kernelspec": {
   "display_name": "base",
   "language": "python",
   "name": "python3"
  },
  "language_info": {
   "codemirror_mode": {
    "name": "ipython",
    "version": 3
   },
   "file_extension": ".py",
   "mimetype": "text/x-python",
   "name": "python",
   "nbconvert_exporter": "python",
   "pygments_lexer": "ipython3",
   "version": "3.12.4"
  }
 },
 "nbformat": 4,
 "nbformat_minor": 2
}
