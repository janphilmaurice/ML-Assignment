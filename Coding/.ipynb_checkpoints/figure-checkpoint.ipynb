{
 "cells": [
  {
   "cell_type": "code",
   "execution_count": 3,
   "id": "e2d7191e",
   "metadata": {},
   "outputs": [],
   "source": [
    "import numpy as np\n",
    "import matplotlib.pyplot as plt"
   ]
  },
  {
   "cell_type": "code",
   "execution_count": null,
   "id": "1994d88e",
   "metadata": {},
   "outputs": [],
   "source": []
  },
  {
   "cell_type": "code",
   "execution_count": 19,
   "id": "b8b71387",
   "metadata": {},
   "outputs": [
    {
     "data": {
      "text/plain": [
       "([<matplotlib.axis.XTick at 0x7f876c8e79d0>,\n",
       "  <matplotlib.axis.XTick at 0x7f876c8e79a0>,\n",
       "  <matplotlib.axis.XTick at 0x7f876c8d7fa0>,\n",
       "  <matplotlib.axis.XTick at 0x7f876ca38760>,\n",
       "  <matplotlib.axis.XTick at 0x7f876ca44040>,\n",
       "  <matplotlib.axis.XTick at 0x7f876ca38790>,\n",
       "  <matplotlib.axis.XTick at 0x7f876ca447f0>,\n",
       "  <matplotlib.axis.XTick at 0x7f876ca490a0>,\n",
       "  <matplotlib.axis.XTick at 0x7f876ca496d0>,\n",
       "  <matplotlib.axis.XTick at 0x7f876ca49e20>,\n",
       "  <matplotlib.axis.XTick at 0x7f876ca515b0>,\n",
       "  <matplotlib.axis.XTick at 0x7f876ca499a0>,\n",
       "  <matplotlib.axis.XTick at 0x7f876ca448b0>,\n",
       "  <matplotlib.axis.XTick at 0x7f876ca51130>,\n",
       "  <matplotlib.axis.XTick at 0x7f876ca59370>,\n",
       "  <matplotlib.axis.XTick at 0x7f876ca59ac0>,\n",
       "  <matplotlib.axis.XTick at 0x7f876ca5f250>,\n",
       "  <matplotlib.axis.XTick at 0x7f876ca5f9a0>],\n",
       " [Text(0, 0, ''),\n",
       "  Text(0, 0, ''),\n",
       "  Text(0, 0, ''),\n",
       "  Text(0, 0, ''),\n",
       "  Text(0, 0, ''),\n",
       "  Text(0, 0, ''),\n",
       "  Text(0, 0, ''),\n",
       "  Text(0, 0, ''),\n",
       "  Text(0, 0, ''),\n",
       "  Text(0, 0, ''),\n",
       "  Text(0, 0, ''),\n",
       "  Text(0, 0, ''),\n",
       "  Text(0, 0, ''),\n",
       "  Text(0, 0, ''),\n",
       "  Text(0, 0, ''),\n",
       "  Text(0, 0, ''),\n",
       "  Text(0, 0, ''),\n",
       "  Text(0, 0, '')])"
      ]
     },
     "execution_count": 19,
     "metadata": {},
     "output_type": "execute_result"
    },
    {
     "data": {
      "image/png": "[encoded data removed]",
      "text/plain": [
       "<Figure size 640x480 with 1 Axes>"
      ]
     },
     "metadata": {},
     "output_type": "display_data"
    }
   ],
   "source": [
    "hyper_acc=[\n",
    "    0.8517999999999999,\n",
    "    0.8398,\n",
    "    0.8538,\n",
    "    0.8588000000000001,\n",
    "    0.8593999999999999,\n",
    "    0.8664,\n",
    "    0.8506,\n",
    "    0.8573999999999999,\n",
    "    0.8539999999999999,\n",
    "    0.861,\n",
    "    0.8462,\n",
    "    0.8665999999999998,\n",
    "    0.706,\n",
    "    0.857,\n",
    "    0.7918000000000001,\n",
    "    0.8573999999999999,\n",
    "    0.7458,\n",
    "    0.8596\n",
    "]\n",
    "\n",
    "plt.bar(range(len(hyper_acc)), hyper_acc)\n",
    "label=[x for x in range(len(hyper_acc),1)]\n",
    "plt.xticks(hyper_acc, label=label)\n"
   ]
  },
  {
   "cell_type": "code",
   "execution_count": null,
   "id": "805b95df",
   "metadata": {},
   "outputs": [],
   "source": []
  }
 ],
 "metadata": {
  "kernelspec": {
   "display_name": "Python 3 (ipykernel)",
   "language": "python",
   "name": "python3"
  },
  "language_info": {
   "codemirror_mode": {
    "name": "ipython",
    "version": 3
   },
   "file_extension": ".py",
   "mimetype": "text/x-python",
   "name": "python",
   "nbconvert_exporter": "python",
   "pygments_lexer": "ipython3",
   "version": "3.9.13"
  }
 },
 "nbformat": 4,
 "nbformat_minor": 5
}
